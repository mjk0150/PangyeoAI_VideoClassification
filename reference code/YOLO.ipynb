{
 "cells": [
  {
   "cell_type": "code",
   "execution_count": null,
   "id": "6dbe0704-91f9-43f8-b173-cc48518dd1c0",
   "metadata": {},
   "outputs": [],
   "source": [
    "import os\n",
    "import sys\n",
    "from pathlib import Path\n",
    "\n",
    "import cv2\n",
    "import numpy as np\n",
    "import torch\n",
    "import torch.backends.cudnn as cudnn\n",
    "import easydict\n",
    "from source.model.yolo.detect import run as yolo\n",
    "\n",
    "args = easydict.EasyDict(\n",
    "    {\n",
    "        \"source\": './dataset/train/video_0003.mp4',\n",
    "        \"save_crop\": True,\n",
    "        \"imgsz\": [2048, 2048],\n",
    "        \"device\": '0, 1',\n",
    "        \"project\": './dataset/train_yolo_H',\n",
    "        \"save_txt\": True,\n",
    "        \"classes\": [0,1,2,3],\n",
    "    }\n",
    ")\n",
    "\n",
    "names = ['person', 'bicycle', 'car', 'motorcycle', 'airplane', 'bus', 'train', 'truck', 'boat', 'traffic light',\n",
    "        'fire hydrant', 'stop sign', 'parking meter', 'bench', 'bird', 'cat', 'dog', 'horse', 'sheep', 'cow',\n",
    "        'elephant', 'bear', 'zebra', 'giraffe', 'backpack', 'umbrella', 'handbag', 'tie', 'suitcase', 'frisbee',\n",
    "        'skis', 'snowboard', 'sports ball', 'kite', 'baseball bat', 'baseball glove', 'skateboard', 'surfboard',\n",
    "        'tennis racket', 'bottle', 'wine glass', 'cup', 'fork', 'knife', 'spoon', 'bowl', 'banana', 'apple',\n",
    "        'sandwich', 'orange', 'broccoli', 'carrot', 'hot dog', 'pizza', 'donut', 'cake', 'chair', 'couch',\n",
    "        'potted plant', 'bed', 'dining table', 'toilet', 'tv', 'laptop', 'mouse', 'remote', 'keyboard', \n",
    "        'cell phone', 'microwave', 'oven', 'toaster', 'sink', 'refrigerator', 'book', 'clock', 'vase', 'scissors', \n",
    "        'teddy bear', 'hair drier', 'toothbrush']"
   ]
  },
  {
   "cell_type": "code",
   "execution_count": null,
   "id": "b5a1ad29-db82-419a-a885-7055e662684a",
   "metadata": {},
   "outputs": [],
   "source": [
    "yolo(source=args.source, \n",
    "     save_crop=args.save_crop, \n",
    "     imgsz=args.imgsz, \n",
    "     device=args.device, \n",
    "     project=args.project, \n",
    "     save_txt=args.save_txt, \n",
    "     classes=args.classes)"
   ]
  }
 ],
 "metadata": {
  "kernelspec": {
   "display_name": "Python 3",
   "language": "python",
   "name": "python3"
  },
  "language_info": {
   "codemirror_mode": {
    "name": "ipython",
    "version": 3
   },
   "file_extension": ".py",
   "mimetype": "text/x-python",
   "name": "python",
   "nbconvert_exporter": "python",
   "pygments_lexer": "ipython3",
   "version": "3.8.8"
  }
 },
 "nbformat": 4,
 "nbformat_minor": 5
}
