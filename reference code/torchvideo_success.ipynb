{
 "cells": [
  {
   "cell_type": "code",
   "execution_count": 1,
   "id": "25b2715d-e7ab-477a-952a-c00204f3f4f0",
   "metadata": {},
   "outputs": [],
   "source": [
    "import pandas as pd\n",
    "import torchvideo.transforms as VT\n",
    "import torchvideo.datasets as datasets\n",
    "import torchvideo.samplers as samplers\n",
    "from torchvision.transforms import Compose\n",
    "from torch.utils.data import DataLoader"
   ]
  },
  {
   "cell_type": "code",
   "execution_count": 2,
   "id": "551ff061-08ab-4279-be7c-616f0e19220f",
   "metadata": {},
   "outputs": [],
   "source": [
    "dataset_path = \"./dataset/train\"\n",
    "label = \"./dataset/train_data.csv\""
   ]
  },
  {
   "cell_type": "code",
   "execution_count": 3,
   "id": "a0572762-ae40-43ae-9544-dedcc6382007",
   "metadata": {},
   "outputs": [],
   "source": [
    "def string_to_num(row):\n",
    "    if row['class'] == 'driveway_walk':\n",
    "        row['class'] = 0\n",
    "    elif row['class'] == 'fall_down':\n",
    "        row['class'] = 1\n",
    "    elif row['class'] == 'fighting':\n",
    "        row['class'] = 2\n",
    "    elif row['class'] == 'jay_walk':\n",
    "        row['class'] = 3\n",
    "    elif row['class'] == 'normal':\n",
    "        row['class'] = 4\n",
    "    elif row['class'] == 'putup_umbrella':\n",
    "        row['class'] = 5\n",
    "    elif row['class'] == 'ride_cycle':\n",
    "        row['class'] = 6\n",
    "    elif row['class'] == 'ride_kick':\n",
    "        row['class'] = 7\n",
    "    elif row['class'] == 'ride_moto':\n",
    "        row['class'] = 8\n",
    "    return row"
   ]
  },
  {
   "cell_type": "code",
   "execution_count": 4,
   "id": "2a2d965a-9dc6-4b05-8be5-68c27e8f771c",
   "metadata": {},
   "outputs": [],
   "source": [
    "df = pd.read_csv(label).set_index('video_filename')"
   ]
  },
  {
   "cell_type": "code",
   "execution_count": 5,
   "id": "744e87ae-2d4f-44d8-8a13-5f7af3ae301c",
   "metadata": {},
   "outputs": [],
   "source": [
    "#df = df.apply(string_to_num, axis='columns')"
   ]
  },
  {
   "cell_type": "code",
   "execution_count": 6,
   "id": "239a00ea-e584-44e5-8a87-061f047cd98d",
   "metadata": {},
   "outputs": [],
   "source": [
    "df = df.drop(['id'], axis=1)"
   ]
  },
  {
   "cell_type": "code",
   "execution_count": 7,
   "id": "ff548e12-440e-4c3e-b986-279d61270bb1",
   "metadata": {},
   "outputs": [
    {
     "data": {
      "text/html": [
       "<div>\n",
       "<style scoped>\n",
       "    .dataframe tbody tr th:only-of-type {\n",
       "        vertical-align: middle;\n",
       "    }\n",
       "\n",
       "    .dataframe tbody tr th {\n",
       "        vertical-align: top;\n",
       "    }\n",
       "\n",
       "    .dataframe thead th {\n",
       "        text-align: right;\n",
       "    }\n",
       "</style>\n",
       "<table border=\"1\" class=\"dataframe\">\n",
       "  <thead>\n",
       "    <tr style=\"text-align: right;\">\n",
       "      <th></th>\n",
       "      <th>class</th>\n",
       "    </tr>\n",
       "    <tr>\n",
       "      <th>video_filename</th>\n",
       "      <th></th>\n",
       "    </tr>\n",
       "  </thead>\n",
       "  <tbody>\n",
       "    <tr>\n",
       "      <th>video_0000.mp4</th>\n",
       "      <td>putup_umbrella</td>\n",
       "    </tr>\n",
       "    <tr>\n",
       "      <th>video_0001.mp4</th>\n",
       "      <td>ride_kick</td>\n",
       "    </tr>\n",
       "    <tr>\n",
       "      <th>video_0002.mp4</th>\n",
       "      <td>fall_down</td>\n",
       "    </tr>\n",
       "    <tr>\n",
       "      <th>video_0003.mp4</th>\n",
       "      <td>driveway_walk</td>\n",
       "    </tr>\n",
       "    <tr>\n",
       "      <th>video_0004.mp4</th>\n",
       "      <td>driveway_walk</td>\n",
       "    </tr>\n",
       "  </tbody>\n",
       "</table>\n",
       "</div>"
      ],
      "text/plain": [
       "                         class\n",
       "video_filename                \n",
       "video_0000.mp4  putup_umbrella\n",
       "video_0001.mp4       ride_kick\n",
       "video_0002.mp4       fall_down\n",
       "video_0003.mp4   driveway_walk\n",
       "video_0004.mp4   driveway_walk"
      ]
     },
     "execution_count": 7,
     "metadata": {},
     "output_type": "execute_result"
    }
   ],
   "source": [
    "df.head(5)"
   ]
  },
  {
   "cell_type": "code",
   "execution_count": 8,
   "id": "74f83522-a427-48d4-96da-2f4d0632d065",
   "metadata": {},
   "outputs": [],
   "source": [
    "label = datasets.CsvLabelSet(df, col='class')"
   ]
  },
  {
   "cell_type": "code",
   "execution_count": 9,
   "id": "72ecf0bc-e908-475e-bc67-8845e66048e4",
   "metadata": {},
   "outputs": [],
   "source": [
    "transform = Compose([\n",
    "    VT.CenterCropVideo((224, 224)),\n",
    "    VT.CollectFrames(),\n",
    "    VT.PILVideoToTensor(),\n",
    "    VT.TimeToChannel(),\n",
    "])"
   ]
  },
  {
   "cell_type": "code",
   "execution_count": 10,
   "id": "b05cfdb7-e3f7-474c-9451-9756faffa43b",
   "metadata": {},
   "outputs": [],
   "source": [
    "dataset = datasets.VideoFolderDataset(\n",
    "    root_path=dataset_path, label_set=label, transform=transform,\n",
    ")"
   ]
  },
  {
   "cell_type": "code",
   "execution_count": 11,
   "id": "df770138-d084-4677-9360-94bf73f200c7",
   "metadata": {},
   "outputs": [
    {
     "data": {
      "text/plain": [
       "3333"
      ]
     },
     "execution_count": 11,
     "metadata": {},
     "output_type": "execute_result"
    }
   ],
   "source": [
    "len(dataset)"
   ]
  },
  {
   "cell_type": "code",
   "execution_count": 12,
   "id": "04893c89-b010-4e97-b6e6-dc2d6917833c",
   "metadata": {},
   "outputs": [],
   "source": [
    "train_dataloader = DataLoader(\n",
    "    dataset, batch_size=5, shuffle=True, num_workers=8\n",
    ")"
   ]
  },
  {
   "cell_type": "code",
   "execution_count": null,
   "id": "775a0b20-30aa-48fc-9209-cba4c6057b36",
   "metadata": {},
   "outputs": [],
   "source": []
  },
  {
   "cell_type": "code",
   "execution_count": null,
   "id": "27597630-113b-4a84-8514-447126859ab5",
   "metadata": {},
   "outputs": [],
   "source": []
  }
 ],
 "metadata": {
  "kernelspec": {
   "display_name": "Python 3",
   "language": "python",
   "name": "python3"
  },
  "language_info": {
   "codemirror_mode": {
    "name": "ipython",
    "version": 3
   },
   "file_extension": ".py",
   "mimetype": "text/x-python",
   "name": "python",
   "nbconvert_exporter": "python",
   "pygments_lexer": "ipython3",
   "version": "3.8.8"
  }
 },
 "nbformat": 4,
 "nbformat_minor": 5
}
